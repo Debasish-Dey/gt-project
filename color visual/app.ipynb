{
 "cells": [
  {
   "cell_type": "code",
   "execution_count": null,
   "metadata": {},
   "outputs": [],
   "source": [
    "import numpy as np\n",
    "import matplotlib as mpl\n",
    "import matplotlib.pyplot as plt\n",
    "import networkx as nx"
   ]
  },
  {
   "cell_type": "code",
   "execution_count": null,
   "metadata": {},
   "outputs": [],
   "source": [
    "# Create Sudoku puzzle\n",
    "puzzle = np.asarray(\n",
    "    [\n",
    "\t\t[7, 8, 0, 4, 0, 0, 1, 2, 0],\n",
    "\t\t[6, 0, 0, 0, 7, 5, 0, 0, 9],\n",
    "\t\t[0, 0, 0, 6, 0, 1, 0, 7, 8],\n",
    "\t\t[0, 0, 7, 0, 4, 0, 2, 6, 0],\n",
    "\t\t[0, 0, 1, 0, 5, 0, 9, 3, 0],\n",
    "\t\t[9, 0, 4, 0, 6, 0, 0, 0, 5],\n",
    "\t\t[0, 7, 0, 3, 0, 0, 0, 1, 2],\n",
    "\t\t[1, 2, 0, 0, 0, 7, 4, 0, 0],\n",
    "\t\t[0, 4, 9, 2, 0, 6, 0, 0, 7]\n",
    "\t]\n",
    ")"
   ]
  },
  {
   "cell_type": "code",
   "execution_count": null,
   "metadata": {},
   "outputs": [],
   "source": [
    "n = 3\n",
    "G = nx.sudoku_graph(n)\n",
    "mapping = dict(zip(G.nodes(), puzzle.flatten()))\n",
    "pos = dict(zip(list(G.nodes()), nx.grid_2d_graph(n * n, n * n)))\n",
    "\n",
    "# we map the nodes 1-9 to a colormap\n",
    "low, *_, high = sorted(mapping.values())\n",
    "norm = mpl.colors.Normalize(vmin=low, vmax=high, clip=True)\n",
    "mapper = mpl.cm.ScalarMappable(norm=norm, cmap=mpl.cm.Pastel1)\n",
    "\n",
    "# draw the graph\n",
    "plt.figure(figsize=(12, 12))\n",
    "nx.draw(\n",
    "    G,\n",
    "    labels=mapping,\n",
    "    pos=pos,\n",
    "    with_labels=True,\n",
    "    node_color=[mapper.to_rgba(i) for i in mapping.values()],\n",
    "    width=1,\n",
    "    node_size=1000,\n",
    ")\n",
    "plt.show()"
   ]
  }
 ],
 "metadata": {
  "kernelspec": {
   "display_name": "Python 3",
   "language": "python",
   "name": "python3"
  },
  "language_info": {
   "codemirror_mode": {
    "name": "ipython",
    "version": 3
   },
   "file_extension": ".py",
   "mimetype": "text/x-python",
   "name": "python",
   "nbconvert_exporter": "python",
   "pygments_lexer": "ipython3",
   "version": "3.11.7"
  }
 },
 "nbformat": 4,
 "nbformat_minor": 2
}
